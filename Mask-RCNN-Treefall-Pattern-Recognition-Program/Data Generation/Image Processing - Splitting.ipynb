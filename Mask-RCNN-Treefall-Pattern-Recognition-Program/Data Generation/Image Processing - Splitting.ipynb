{
 "cells": [
  {
   "cell_type": "code",
   "execution_count": 3,
   "metadata": {},
   "outputs": [
    {
     "name": "stdout",
     "output_type": "stream",
     "text": [
      "Unprocessed Data\\DJI_0218.JPG\n",
      "3040   4056\n",
      "Unprocessed Data\\DJI_0219.JPG\n",
      "3040   4056\n",
      "Unprocessed Data\\DJI_0220.JPG\n",
      "3040   4056\n",
      "Unprocessed Data\\DJI_0224.JPG\n",
      "3040   4056\n",
      "Unprocessed Data\\DJI_0225.JPG\n",
      "3040   4056\n",
      "Unprocessed Data\\DJI_0226.JPG\n",
      "3040   4056\n",
      "Unprocessed Data\\DJI_0227.JPG\n",
      "3040   4056\n",
      "Unprocessed Data\\DJI_0230.JPG\n",
      "3040   4056\n",
      "Unprocessed Data\\DJI_0238.JPG\n",
      "3040   4056\n",
      "Unprocessed Data\\DJI_0239.JPG\n",
      "3040   4056\n"
     ]
    }
   ],
   "source": [
    "import os\n",
    "import image_slicer\n",
    "import cv2\n",
    "from PIL import Image\n",
    "from matplotlib import pyplot as plt\n",
    "\n",
    "im_counter = 0\n",
    "directory = 'Unprocessed Data'\n",
    "for filename in os.listdir(directory):\n",
    "    if filename.endswith(\".JPG\"): \n",
    "        image_dir = os.path.join(directory, filename)\n",
    "        img = cv2.imread(image_dir, 1)\n",
    "        print(image_dir)\n",
    "        \n",
    "        height, width, _ = img.shape\n",
    "        print(height, \" \", width)\n",
    "        \n",
    "#         plt.imshow(img)\n",
    "#         plt.show()\n",
    "        \n",
    "        im_height = int(height / 3)\n",
    "        im_width = int(width / 4)\n",
    "        \n",
    "        for h in range(0,3):\n",
    "            for w in range (0,4):\n",
    "                crop_img = img[h*im_height:(h+1)*im_height, w*im_width:(w+1)*im_width]\n",
    "                path = 'Segmented Data v2'\n",
    "                imfile = filename[0:len(filename)-3] +\"_h\" + str(h) + \"_w\" + str(w) + \".JPG\"\n",
    "                cv2.imwrite(os.path.join(path, imfile),crop_img)\n",
    "                cv2.waitKey(0)\n",
    "                continue"
   ]
  },
  {
   "cell_type": "code",
   "execution_count": null,
   "metadata": {},
   "outputs": [],
   "source": []
  }
 ],
 "metadata": {
  "kernelspec": {
   "display_name": "Python 3",
   "language": "python",
   "name": "python3"
  },
  "language_info": {
   "codemirror_mode": {
    "name": "ipython",
    "version": 3
   },
   "file_extension": ".py",
   "mimetype": "text/x-python",
   "name": "python",
   "nbconvert_exporter": "python",
   "pygments_lexer": "ipython3",
   "version": "3.7.3"
  }
 },
 "nbformat": 4,
 "nbformat_minor": 2
}
